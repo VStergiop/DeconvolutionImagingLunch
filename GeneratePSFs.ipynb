{
 "cells": [
  {
   "metadata": {},
   "cell_type": "code",
   "outputs": [],
   "execution_count": null,
   "source": [
    "!pip install psf-generator\n",
    "!pip install tifffile"
   ],
   "id": "c95f11a280645251"
  },
  {
   "metadata": {
    "ExecuteTime": {
     "end_time": "2025-05-11T15:00:02.527879Z",
     "start_time": "2025-05-11T15:00:00.700480Z"
    }
   },
   "cell_type": "code",
   "outputs": [],
   "execution_count": 1,
   "source": [
    "from psf_generator.propagators import *\n",
    "import tifffile"
   ],
   "id": "ee04585f9effc60f"
  },
  {
   "metadata": {},
   "cell_type": "markdown",
   "source": "## Compute PSF\n",
   "id": "e75463fb4d4f9f3c"
  },
  {
   "metadata": {
    "ExecuteTime": {
     "end_time": "2025-05-11T15:00:03.353499Z",
     "start_time": "2025-05-11T15:00:02.532660Z"
    }
   },
   "cell_type": "code",
   "source": [
    "kwargs = {\n",
    "    'n_pix_pupil': 255,\n",
    "    'n_pix_psf': 128,\n",
    "    'n_defocus': 50,\n",
    "    'na': 1.4,\n",
    "    'wavelength': 610,\n",
    "    'fov': 12800,\n",
    "    'defocus_min': -2500,\n",
    "    'defocus_max': 2500,\n",
    "    'n_i': 1.5,\n",
    "}\n",
    "\n",
    "propagator = ScalarSphericalPropagator(**kwargs)\n",
    "focus_field = propagator.compute_focus_field()\n",
    "\n",
    "psf = focus_field.abs().sum(axis=1).squeeze()**2\n",
    "psf = psf / psf.sum()"
   ],
   "id": "91a0733ef79bb0e",
   "outputs": [],
   "execution_count": 2
  },
  {
   "metadata": {
    "ExecuteTime": {
     "end_time": "2025-05-11T15:00:03.416327Z",
     "start_time": "2025-05-11T15:00:03.411028Z"
    }
   },
   "cell_type": "code",
   "source": "tifffile.imwrite('psf_drosophila.tif', psf.cpu().numpy())",
   "id": "c378595ff8d6e6a9",
   "outputs": [],
   "execution_count": 3
  }
 ],
 "metadata": {
  "kernelspec": {
   "display_name": "Python 3",
   "language": "python",
   "name": "python3"
  },
  "language_info": {
   "codemirror_mode": {
    "name": "ipython",
    "version": 2
   },
   "file_extension": ".py",
   "mimetype": "text/x-python",
   "name": "python",
   "nbconvert_exporter": "python",
   "pygments_lexer": "ipython2",
   "version": "2.7.6"
  }
 },
 "nbformat": 4,
 "nbformat_minor": 5
}
